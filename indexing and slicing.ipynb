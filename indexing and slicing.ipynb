{
 "cells": [
  {
   "cell_type": "markdown",
   "id": "b72d2e33-1757-4127-bdd1-c2417d10ba09",
   "metadata": {},
   "source": [
    "INDEXING"
   ]
  },
  {
   "cell_type": "code",
   "execution_count": 2,
   "id": "2fd3ffdc-1021-4b2f-866b-d1135d0031dc",
   "metadata": {},
   "outputs": [],
   "source": [
    "mystring = \"hello world\""
   ]
  },
  {
   "cell_type": "code",
   "execution_count": 6,
   "id": "c4ea0652-673f-4b2c-be74-93b5dcf0f0cd",
   "metadata": {},
   "outputs": [
    {
     "data": {
      "text/plain": [
       "'d'"
      ]
     },
     "execution_count": 6,
     "metadata": {},
     "output_type": "execute_result"
    }
   ],
   "source": [
    "mystring[-1]"
   ]
  },
  {
   "cell_type": "code",
   "execution_count": 8,
   "id": "b354490c-e46d-4002-b5e1-1e56a0eefd60",
   "metadata": {},
   "outputs": [
    {
     "data": {
      "text/plain": [
       "'e'"
      ]
     },
     "execution_count": 8,
     "metadata": {},
     "output_type": "execute_result"
    }
   ],
   "source": [
    "mystring[1]"
   ]
  },
  {
   "cell_type": "markdown",
   "id": "cb3f7792-b2e9-4c18-9f98-9d1c0cb3f2b4",
   "metadata": {},
   "source": [
    "slicing"
   ]
  },
  {
   "cell_type": "code",
   "execution_count": 11,
   "id": "c8dd2372-86d7-47b4-9f65-7bfcb89ec311",
   "metadata": {},
   "outputs": [],
   "source": [
    "mystring = 'abcdefghijklmnopqrst'"
   ]
  },
  {
   "cell_type": "code",
   "execution_count": 13,
   "id": "a7d037e1-b25c-4927-bb5b-4ad7ca8eba84",
   "metadata": {},
   "outputs": [
    {
     "data": {
      "text/plain": [
       "'abcdefghijklmnopqrst'"
      ]
     },
     "execution_count": 13,
     "metadata": {},
     "output_type": "execute_result"
    }
   ],
   "source": [
    "mystring"
   ]
  },
  {
   "cell_type": "code",
   "execution_count": 15,
   "id": "9a19af76-715e-4b12-a941-007d3dab55e8",
   "metadata": {},
   "outputs": [
    {
     "data": {
      "text/plain": [
       "'cdefghijklmnopqrst'"
      ]
     },
     "execution_count": 15,
     "metadata": {},
     "output_type": "execute_result"
    }
   ],
   "source": [
    "mystring[2:]"
   ]
  },
  {
   "cell_type": "code",
   "execution_count": 17,
   "id": "b71bddf6-7441-4e1c-a18c-006361d3f3b9",
   "metadata": {},
   "outputs": [
    {
     "data": {
      "text/plain": [
       "'defghijklmnopqrst'"
      ]
     },
     "execution_count": 17,
     "metadata": {},
     "output_type": "execute_result"
    }
   ],
   "source": [
    "mystring[3:]"
   ]
  },
  {
   "cell_type": "code",
   "execution_count": 19,
   "id": "90bf9d54-4553-45c1-93cf-e2ceada1cdf4",
   "metadata": {},
   "outputs": [
    {
     "data": {
      "text/plain": [
       "'def'"
      ]
     },
     "execution_count": 19,
     "metadata": {},
     "output_type": "execute_result"
    }
   ],
   "source": [
    "mystring[3:6]"
   ]
  },
  {
   "cell_type": "code",
   "execution_count": 23,
   "id": "e4ee62fa-3822-4120-b837-111ea71e71a2",
   "metadata": {},
   "outputs": [
    {
     "data": {
      "text/plain": [
       "'bc'"
      ]
     },
     "execution_count": 23,
     "metadata": {},
     "output_type": "execute_result"
    }
   ],
   "source": [
    "mystring[1:3]"
   ]
  },
  {
   "cell_type": "code",
   "execution_count": 25,
   "id": "8debf958-3b70-413d-96a2-ae0c811e79f4",
   "metadata": {},
   "outputs": [
    {
     "data": {
      "text/plain": [
       "'adgjmps'"
      ]
     },
     "execution_count": 25,
     "metadata": {},
     "output_type": "execute_result"
    }
   ],
   "source": [
    "mystring[::3]"
   ]
  },
  {
   "cell_type": "code",
   "execution_count": 27,
   "id": "ef7d3344-bfeb-424a-9781-f11839e5c461",
   "metadata": {},
   "outputs": [
    {
     "data": {
      "text/plain": [
       "'aeimq'"
      ]
     },
     "execution_count": 27,
     "metadata": {},
     "output_type": "execute_result"
    }
   ],
   "source": [
    "mystring[::4]"
   ]
  },
  {
   "cell_type": "markdown",
   "id": "50ce3a92-d861-4d5a-b232-b949576c7885",
   "metadata": {},
   "source": [
    "[start:stop:stepsize]"
   ]
  },
  {
   "cell_type": "code",
   "execution_count": 30,
   "id": "1519051d-ad84-4d50-85ca-ab045712a61e",
   "metadata": {},
   "outputs": [
    {
     "data": {
      "text/plain": [
       "'ceg'"
      ]
     },
     "execution_count": 30,
     "metadata": {},
     "output_type": "execute_result"
    }
   ],
   "source": [
    "mystring[2:7:2]"
   ]
  },
  {
   "cell_type": "code",
   "execution_count": 32,
   "id": "0aa54d38-b4df-44f6-b7fa-99d5217ed175",
   "metadata": {},
   "outputs": [
    {
     "data": {
      "text/plain": [
       "'tsrqponmlkjihgfedcba'"
      ]
     },
     "execution_count": 32,
     "metadata": {},
     "output_type": "execute_result"
    }
   ],
   "source": [
    "mystring[::-1]"
   ]
  },
  {
   "cell_type": "code",
   "execution_count": null,
   "id": "242bc132-78c2-4f90-a5da-fb2d4af30500",
   "metadata": {},
   "outputs": [],
   "source": []
  }
 ],
 "metadata": {
  "kernelspec": {
   "display_name": "Python [conda env:base] *",
   "language": "python",
   "name": "conda-base-py"
  },
  "language_info": {
   "codemirror_mode": {
    "name": "ipython",
    "version": 3
   },
   "file_extension": ".py",
   "mimetype": "text/x-python",
   "name": "python",
   "nbconvert_exporter": "python",
   "pygments_lexer": "ipython3",
   "version": "3.12.7"
  }
 },
 "nbformat": 4,
 "nbformat_minor": 5
}
