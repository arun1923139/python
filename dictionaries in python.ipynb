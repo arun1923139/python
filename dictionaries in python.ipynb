{
 "cells": [
  {
   "cell_type": "code",
   "execution_count": 1,
   "id": "932ac437-0b19-438f-b685-76ba5e6fc970",
   "metadata": {},
   "outputs": [],
   "source": [
    "my_dict = {'key1': 'value1','key2': 'value2'}"
   ]
  },
  {
   "cell_type": "code",
   "execution_count": 5,
   "id": "261201c2-23ac-44f3-9a41-139d9134d47a",
   "metadata": {},
   "outputs": [
    {
     "data": {
      "text/plain": [
       "'value1'"
      ]
     },
     "execution_count": 5,
     "metadata": {},
     "output_type": "execute_result"
    }
   ],
   "source": [
    "my_dict ['key1']"
   ]
  },
  {
   "cell_type": "code",
   "execution_count": 7,
   "id": "691a7fc5-6b0d-4302-9bc9-f9aa6cc52d11",
   "metadata": {},
   "outputs": [],
   "source": [
    "prices_lookup = {'apple': 2.99,'oranges': 3,'lemon': 7.20}"
   ]
  },
  {
   "cell_type": "code",
   "execution_count": 9,
   "id": "41bc87c6-8374-44a8-b997-d932bd5778d4",
   "metadata": {},
   "outputs": [
    {
     "data": {
      "text/plain": [
       "2.99"
      ]
     },
     "execution_count": 9,
     "metadata": {},
     "output_type": "execute_result"
    }
   ],
   "source": [
    "prices_lookup['apple']"
   ]
  },
  {
   "cell_type": "code",
   "execution_count": 11,
   "id": "7a0e091a-7cb1-4b5a-82f7-102ac471b514",
   "metadata": {},
   "outputs": [],
   "source": [
    "d = {'k1': 1223,'k2': [0,1,2],'k3' :{'insidekey' :100}}"
   ]
  },
  {
   "cell_type": "code",
   "execution_count": 13,
   "id": "3e29505e-b68f-4066-9565-981ce400ed02",
   "metadata": {},
   "outputs": [
    {
     "data": {
      "text/plain": [
       "[0, 1, 2]"
      ]
     },
     "execution_count": 13,
     "metadata": {},
     "output_type": "execute_result"
    }
   ],
   "source": [
    "d['k2']"
   ]
  },
  {
   "cell_type": "code",
   "execution_count": 19,
   "id": "870aa3ad-4147-4bf8-aca5-4681095e6d3a",
   "metadata": {},
   "outputs": [
    {
     "data": {
      "text/plain": [
       "100"
      ]
     },
     "execution_count": 19,
     "metadata": {},
     "output_type": "execute_result"
    }
   ],
   "source": [
    "d['k3']['insidekey']"
   ]
  },
  {
   "cell_type": "code",
   "execution_count": 21,
   "id": "34bdcd78-6940-45a8-8b60-1f5d0ecddb01",
   "metadata": {},
   "outputs": [],
   "source": [
    "d ={'key1' :['a','b','c']}"
   ]
  },
  {
   "cell_type": "code",
   "execution_count": 23,
   "id": "8fca7e4b-857f-41b4-8ff7-9d0cbb099399",
   "metadata": {},
   "outputs": [
    {
     "data": {
      "text/plain": [
       "{'key1': ['a', 'b', 'c']}"
      ]
     },
     "execution_count": 23,
     "metadata": {},
     "output_type": "execute_result"
    }
   ],
   "source": [
    "d"
   ]
  },
  {
   "cell_type": "code",
   "execution_count": 25,
   "id": "33accd91-f3bc-459f-93e9-0b08c0837e5d",
   "metadata": {},
   "outputs": [],
   "source": [
    "mylist = d['key1']"
   ]
  },
  {
   "cell_type": "code",
   "execution_count": 27,
   "id": "4f3a2f9b-91a3-4f31-9da3-b75dc88c6bf8",
   "metadata": {},
   "outputs": [
    {
     "data": {
      "text/plain": [
       "['a', 'b', 'c']"
      ]
     },
     "execution_count": 27,
     "metadata": {},
     "output_type": "execute_result"
    }
   ],
   "source": [
    "mylist"
   ]
  },
  {
   "cell_type": "code",
   "execution_count": 29,
   "id": "2d76a37b-6ca0-4ddc-b24b-a8531c794074",
   "metadata": {},
   "outputs": [],
   "source": [
    "letters= mylist[2]"
   ]
  },
  {
   "cell_type": "code",
   "execution_count": 33,
   "id": "90655adb-c5d9-488d-b149-728f0c327542",
   "metadata": {},
   "outputs": [
    {
     "data": {
      "text/plain": [
       "'C'"
      ]
     },
     "execution_count": 33,
     "metadata": {},
     "output_type": "execute_result"
    }
   ],
   "source": [
    "letters.upper()"
   ]
  },
  {
   "cell_type": "code",
   "execution_count": 35,
   "id": "435f5a4d-6c75-41b6-a584-4bf751471b94",
   "metadata": {},
   "outputs": [
    {
     "data": {
      "text/plain": [
       "'C'"
      ]
     },
     "execution_count": 35,
     "metadata": {},
     "output_type": "execute_result"
    }
   ],
   "source": [
    "d['key1'][2].upper()"
   ]
  },
  {
   "cell_type": "code",
   "execution_count": 37,
   "id": "9f908b3c-a68a-43e5-9eb1-57e71aa266c2",
   "metadata": {},
   "outputs": [],
   "source": [
    "d = {'k1' :100,'k2' :200}"
   ]
  },
  {
   "cell_type": "code",
   "execution_count": 39,
   "id": "6bb87492-f3fa-426a-b74f-effff6710fb1",
   "metadata": {},
   "outputs": [
    {
     "data": {
      "text/plain": [
       "{'k1': 100, 'k2': 200}"
      ]
     },
     "execution_count": 39,
     "metadata": {},
     "output_type": "execute_result"
    }
   ],
   "source": [
    "d"
   ]
  },
  {
   "cell_type": "code",
   "execution_count": 41,
   "id": "f8745821-c72f-4ae9-8f66-90148e2bd81a",
   "metadata": {},
   "outputs": [],
   "source": [
    "d['k3'] = 300"
   ]
  },
  {
   "cell_type": "code",
   "execution_count": 43,
   "id": "0d8853e3-9a81-4ffb-b5a2-b7fd908da54a",
   "metadata": {},
   "outputs": [
    {
     "data": {
      "text/plain": [
       "{'k1': 100, 'k2': 200, 'k3': 300}"
      ]
     },
     "execution_count": 43,
     "metadata": {},
     "output_type": "execute_result"
    }
   ],
   "source": [
    "d"
   ]
  },
  {
   "cell_type": "code",
   "execution_count": 45,
   "id": "de02176a-e9e0-45cd-9e86-9dd65694f31b",
   "metadata": {},
   "outputs": [],
   "source": [
    " d['k1'] = 'new value'"
   ]
  },
  {
   "cell_type": "code",
   "execution_count": 47,
   "id": "927c5113-3fd4-43ff-b1b6-0fc45c843bba",
   "metadata": {},
   "outputs": [
    {
     "data": {
      "text/plain": [
       "{'k1': 'new value', 'k2': 200, 'k3': 300}"
      ]
     },
     "execution_count": 47,
     "metadata": {},
     "output_type": "execute_result"
    }
   ],
   "source": [
    "d"
   ]
  },
  {
   "cell_type": "code",
   "execution_count": 49,
   "id": "4c14700d-c786-4414-aa28-414e92ba70c6",
   "metadata": {},
   "outputs": [
    {
     "data": {
      "text/plain": [
       "dict_keys(['k1', 'k2', 'k3'])"
      ]
     },
     "execution_count": 49,
     "metadata": {},
     "output_type": "execute_result"
    }
   ],
   "source": [
    "d.keys()"
   ]
  },
  {
   "cell_type": "code",
   "execution_count": 51,
   "id": "6543ec01-4cd0-41bd-9b9a-6eec3159e44f",
   "metadata": {},
   "outputs": [
    {
     "data": {
      "text/plain": [
       "dict_values(['new value', 200, 300])"
      ]
     },
     "execution_count": 51,
     "metadata": {},
     "output_type": "execute_result"
    }
   ],
   "source": [
    "d.values()"
   ]
  },
  {
   "cell_type": "code",
   "execution_count": 53,
   "id": "3cbc2fc0-f8c8-4174-b38c-5d80e4ae4943",
   "metadata": {},
   "outputs": [
    {
     "data": {
      "text/plain": [
       "dict_items([('k1', 'new value'), ('k2', 200), ('k3', 300)])"
      ]
     },
     "execution_count": 53,
     "metadata": {},
     "output_type": "execute_result"
    }
   ],
   "source": [
    "d.items()"
   ]
  },
  {
   "cell_type": "code",
   "execution_count": null,
   "id": "5f42bcec-e3fa-47fb-99bb-ed0effe0832b",
   "metadata": {},
   "outputs": [],
   "source": []
  }
 ],
 "metadata": {
  "kernelspec": {
   "display_name": "Python [conda env:base] *",
   "language": "python",
   "name": "conda-base-py"
  },
  "language_info": {
   "codemirror_mode": {
    "name": "ipython",
    "version": 3
   },
   "file_extension": ".py",
   "mimetype": "text/x-python",
   "name": "python",
   "nbconvert_exporter": "python",
   "pygments_lexer": "ipython3",
   "version": "3.12.7"
  }
 },
 "nbformat": 4,
 "nbformat_minor": 5
}
