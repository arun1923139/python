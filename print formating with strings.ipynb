{
 "cells": [
  {
   "cell_type": "markdown",
   "id": "51dbc792-5721-4e13-9aee-7798fcc36fed",
   "metadata": {},
   "source": [
    "Formatting with the .format() method"
   ]
  },
  {
   "cell_type": "code",
   "execution_count": 6,
   "id": "cf001aba-a8f9-4e7d-969b-175f7755948b",
   "metadata": {},
   "outputs": [
    {
     "name": "stdout",
     "output_type": "stream",
     "text": [
      "this is a string fox\n"
     ]
    }
   ],
   "source": [
    "print ('this is a string {}'.format('fox'))"
   ]
  },
  {
   "cell_type": "code",
   "execution_count": 16,
   "id": "3a7fc938-ea32-4d11-81bf-8b4c363fe8fe",
   "metadata": {},
   "outputs": [
    {
     "name": "stdout",
     "output_type": "stream",
     "text": [
      "the fox brown quick\n"
     ]
    }
   ],
   "source": [
    "print ('the {} {} {}'.format('fox','brown','quick'))"
   ]
  },
  {
   "cell_type": "code",
   "execution_count": 18,
   "id": "a41c52da-75a4-4514-b08e-f2987faf9806",
   "metadata": {},
   "outputs": [
    {
     "name": "stdout",
     "output_type": "stream",
     "text": [
      "the fox fox fox\n"
     ]
    }
   ],
   "source": [
    "print ('the {0} {0} {0}'.format('fox','brown','quick'))"
   ]
  },
  {
   "cell_type": "code",
   "execution_count": 20,
   "id": "2588be2e-21f8-4045-9d72-8d03261e6bbb",
   "metadata": {},
   "outputs": [
    {
     "name": "stdout",
     "output_type": "stream",
     "text": [
      "the quick brown fox\n"
     ]
    }
   ],
   "source": [
    "print ('the {q} {b} {f}'.format(f='fox',b='brown',q='quick'))"
   ]
  },
  {
   "cell_type": "markdown",
   "id": "c53a48f8-157d-4767-a683-a5a624a3c230",
   "metadata": {},
   "source": [
    "Float formatting follows \"{value:width.precisionf}\""
   ]
  },
  {
   "cell_type": "code",
   "execution_count": 23,
   "id": "501b1129-b2a7-4f79-a771-6f9f011f7af9",
   "metadata": {},
   "outputs": [],
   "source": [
    "result = 100/777"
   ]
  },
  {
   "cell_type": "code",
   "execution_count": 25,
   "id": "2fc1709d-93ef-47d7-8fcd-170278c34bc6",
   "metadata": {},
   "outputs": [
    {
     "data": {
      "text/plain": [
       "0.1287001287001287"
      ]
     },
     "execution_count": 25,
     "metadata": {},
     "output_type": "execute_result"
    }
   ],
   "source": [
    "result"
   ]
  },
  {
   "cell_type": "code",
   "execution_count": 35,
   "id": "0269ecca-eb18-466c-8f4a-bb913032df20",
   "metadata": {},
   "outputs": [
    {
     "name": "stdout",
     "output_type": "stream",
     "text": [
      "the result was 0.129\n"
     ]
    }
   ],
   "source": [
    "print(\"the result was {r:1.3f}\".format(r=result))"
   ]
  },
  {
   "cell_type": "code",
   "execution_count": null,
   "id": "bfa9527c-c514-4ba9-b13c-9c860a3238ea",
   "metadata": {},
   "outputs": [],
   "source": []
  },
  {
   "cell_type": "code",
   "execution_count": 38,
   "id": "361d0acd-db29-4677-9e71-479473ba40aa",
   "metadata": {},
   "outputs": [],
   "source": [
    "name = \"jose\""
   ]
  },
  {
   "cell_type": "code",
   "execution_count": 42,
   "id": "da2b7bd7-c015-4e2e-ae4f-3b11cf37f473",
   "metadata": {},
   "outputs": [
    {
     "name": "stdout",
     "output_type": "stream",
     "text": [
      "Hello, his name is jose\n"
     ]
    }
   ],
   "source": [
    "print (f'Hello, his name is {name}')"
   ]
  },
  {
   "cell_type": "code",
   "execution_count": 47,
   "id": "af5ee3ae-6dba-4f11-b931-ad5345120317",
   "metadata": {},
   "outputs": [],
   "source": [
    "name = \"sam\"\n",
    "age = 3"
   ]
  },
  {
   "cell_type": "code",
   "execution_count": 53,
   "id": "3cf4c655-af04-4ca5-80c5-12ecf255d96d",
   "metadata": {},
   "outputs": [
    {
     "name": "stdout",
     "output_type": "stream",
     "text": [
      "sam is 3 years old\n"
     ]
    }
   ],
   "source": [
    "print (f'{name} is {age} years old')"
   ]
  },
  {
   "cell_type": "code",
   "execution_count": null,
   "id": "3822cc61-59c6-4764-83b1-96b043ba4c01",
   "metadata": {},
   "outputs": [],
   "source": []
  }
 ],
 "metadata": {
  "kernelspec": {
   "display_name": "Python [conda env:base] *",
   "language": "python",
   "name": "conda-base-py"
  },
  "language_info": {
   "codemirror_mode": {
    "name": "ipython",
    "version": 3
   },
   "file_extension": ".py",
   "mimetype": "text/x-python",
   "name": "python",
   "nbconvert_exporter": "python",
   "pygments_lexer": "ipython3",
   "version": "3.12.7"
  }
 },
 "nbformat": 4,
 "nbformat_minor": 5
}
