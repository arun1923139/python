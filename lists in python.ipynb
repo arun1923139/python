{
 "cells": [
  {
   "cell_type": "code",
   "execution_count": 1,
   "id": "546894a4-fff2-48b2-84b2-cbb41a144299",
   "metadata": {},
   "outputs": [],
   "source": [
    "my_list = [20,10,100]"
   ]
  },
  {
   "cell_type": "code",
   "execution_count": 3,
   "id": "ac03044f-d9e3-49b1-8d72-50177fb9bbfb",
   "metadata": {},
   "outputs": [],
   "source": [
    "my_list = ['string',100,28.2]"
   ]
  },
  {
   "cell_type": "code",
   "execution_count": 7,
   "id": "ef6d8c4a-8f73-4b1e-a3ae-22f5c4014bb6",
   "metadata": {},
   "outputs": [
    {
     "data": {
      "text/plain": [
       "3"
      ]
     },
     "execution_count": 7,
     "metadata": {},
     "output_type": "execute_result"
    }
   ],
   "source": [
    "len(my_list)"
   ]
  },
  {
   "cell_type": "code",
   "execution_count": 9,
   "id": "0fa318ce-ed24-4839-b19e-abc9d5a23492",
   "metadata": {},
   "outputs": [],
   "source": [
    "mylist = ['one','two','three']"
   ]
  },
  {
   "cell_type": "code",
   "execution_count": 11,
   "id": "3338b43a-fb27-4736-95eb-64e863faab51",
   "metadata": {},
   "outputs": [
    {
     "data": {
      "text/plain": [
       "'one'"
      ]
     },
     "execution_count": 11,
     "metadata": {},
     "output_type": "execute_result"
    }
   ],
   "source": [
    "mylist[0]"
   ]
  },
  {
   "cell_type": "code",
   "execution_count": 13,
   "id": "04f2d5bf-9f23-42fd-a6b6-0b54b0a8f616",
   "metadata": {},
   "outputs": [
    {
     "data": {
      "text/plain": [
       "['two', 'three']"
      ]
     },
     "execution_count": 13,
     "metadata": {},
     "output_type": "execute_result"
    }
   ],
   "source": [
    "mylist[1:]"
   ]
  },
  {
   "cell_type": "code",
   "execution_count": 15,
   "id": "7e69c62c-220e-410f-9660-3296703f2cc8",
   "metadata": {},
   "outputs": [],
   "source": [
    "anotherlist = ['four','five','six']"
   ]
  },
  {
   "cell_type": "code",
   "execution_count": 21,
   "id": "49dc7b74-551b-47dd-9c27-1bbd57994e13",
   "metadata": {},
   "outputs": [],
   "source": [
    "new= mylist+anotherlist"
   ]
  },
  {
   "cell_type": "code",
   "execution_count": 19,
   "id": "869f08f0-223f-4de3-900a-f169ec572063",
   "metadata": {},
   "outputs": [
    {
     "data": {
      "text/plain": [
       "['one', 'two', 'three']"
      ]
     },
     "execution_count": 19,
     "metadata": {},
     "output_type": "execute_result"
    }
   ],
   "source": [
    "mylist"
   ]
  },
  {
   "cell_type": "code",
   "execution_count": 23,
   "id": "add4d41e-ae45-4db6-a8ad-6d32e7c95683",
   "metadata": {},
   "outputs": [
    {
     "data": {
      "text/plain": [
       "['one', 'two', 'three', 'four', 'five', 'six']"
      ]
     },
     "execution_count": 23,
     "metadata": {},
     "output_type": "execute_result"
    }
   ],
   "source": [
    "new"
   ]
  },
  {
   "cell_type": "code",
   "execution_count": 25,
   "id": "fa99f042-a09f-4304-b7f8-e1a4363da617",
   "metadata": {},
   "outputs": [],
   "source": [
    "new [0]= 'new allcaps'"
   ]
  },
  {
   "cell_type": "code",
   "execution_count": 27,
   "id": "059110e0-44f1-4591-b662-9a6b0710e948",
   "metadata": {},
   "outputs": [
    {
     "data": {
      "text/plain": [
       "['new allcaps', 'two', 'three', 'four', 'five', 'six']"
      ]
     },
     "execution_count": 27,
     "metadata": {},
     "output_type": "execute_result"
    }
   ],
   "source": [
    "new"
   ]
  },
  {
   "cell_type": "code",
   "execution_count": 29,
   "id": "33a4c2d4-c3ee-4056-aa18-3a5a0c64117d",
   "metadata": {},
   "outputs": [],
   "source": [
    "new.append('seven')"
   ]
  },
  {
   "cell_type": "code",
   "execution_count": 31,
   "id": "eddff509-bbf9-4e7e-bb79-13aceb4d1566",
   "metadata": {},
   "outputs": [
    {
     "data": {
      "text/plain": [
       "['new allcaps', 'two', 'three', 'four', 'five', 'six', 'seven']"
      ]
     },
     "execution_count": 31,
     "metadata": {},
     "output_type": "execute_result"
    }
   ],
   "source": [
    "new"
   ]
  },
  {
   "cell_type": "code",
   "execution_count": 35,
   "id": "3631d3c0-6f2e-4209-ba2a-eae7c9c5d7c8",
   "metadata": {},
   "outputs": [
    {
     "data": {
      "text/plain": [
       "'seven'"
      ]
     },
     "execution_count": 35,
     "metadata": {},
     "output_type": "execute_result"
    }
   ],
   "source": [
    "new.pop()"
   ]
  },
  {
   "cell_type": "code",
   "execution_count": 37,
   "id": "b81a9e32-5914-439e-8504-f62489a27d52",
   "metadata": {},
   "outputs": [
    {
     "data": {
      "text/plain": [
       "['new allcaps', 'two', 'three', 'four', 'five', 'six']"
      ]
     },
     "execution_count": 37,
     "metadata": {},
     "output_type": "execute_result"
    }
   ],
   "source": [
    "new"
   ]
  },
  {
   "cell_type": "code",
   "execution_count": 39,
   "id": "e08e89de-2023-42c5-a3cf-ed8b6c837db3",
   "metadata": {},
   "outputs": [],
   "source": [
    "popped_item = new.pop()"
   ]
  },
  {
   "cell_type": "code",
   "execution_count": 41,
   "id": "77d83299-9bf3-4bc2-9e6a-893bf8f574a4",
   "metadata": {},
   "outputs": [
    {
     "data": {
      "text/plain": [
       "'six'"
      ]
     },
     "execution_count": 41,
     "metadata": {},
     "output_type": "execute_result"
    }
   ],
   "source": [
    "popped_item"
   ]
  },
  {
   "cell_type": "code",
   "execution_count": 45,
   "id": "8e6b0092-4cbd-4cbc-855e-bf6b194d95b2",
   "metadata": {},
   "outputs": [],
   "source": [
    "newalpha = ['a','b','w','s']"
   ]
  },
  {
   "cell_type": "code",
   "execution_count": 47,
   "id": "0ea1dbcb-24d2-44b0-874b-49a92f32d714",
   "metadata": {},
   "outputs": [
    {
     "data": {
      "text/plain": [
       "['a', 'b', 'w', 's']"
      ]
     },
     "execution_count": 47,
     "metadata": {},
     "output_type": "execute_result"
    }
   ],
   "source": [
    "newalpha"
   ]
  },
  {
   "cell_type": "code",
   "execution_count": 49,
   "id": "0e459c04-3183-4017-a00e-5559b8aea9ef",
   "metadata": {},
   "outputs": [],
   "source": [
    "newalpha.sort()"
   ]
  },
  {
   "cell_type": "code",
   "execution_count": 51,
   "id": "a92656aa-5f40-4a66-9423-e6919c7e618f",
   "metadata": {},
   "outputs": [
    {
     "data": {
      "text/plain": [
       "['a', 'b', 's', 'w']"
      ]
     },
     "execution_count": 51,
     "metadata": {},
     "output_type": "execute_result"
    }
   ],
   "source": [
    "newalpha"
   ]
  },
  {
   "cell_type": "code",
   "execution_count": 53,
   "id": "3ba7be99-aab9-49f5-9745-dadfa2d97b69",
   "metadata": {},
   "outputs": [],
   "source": [
    "newalpha.reverse()"
   ]
  },
  {
   "cell_type": "code",
   "execution_count": 55,
   "id": "1dd5f948-dac3-4ea8-b7f9-cb7b03ae4111",
   "metadata": {},
   "outputs": [
    {
     "data": {
      "text/plain": [
       "['w', 's', 'b', 'a']"
      ]
     },
     "execution_count": 55,
     "metadata": {},
     "output_type": "execute_result"
    }
   ],
   "source": [
    "newalpha"
   ]
  },
  {
   "cell_type": "code",
   "execution_count": null,
   "id": "4d1dafd5-c910-4888-9ba9-426abe3d427d",
   "metadata": {},
   "outputs": [],
   "source": []
  }
 ],
 "metadata": {
  "kernelspec": {
   "display_name": "Python [conda env:base] *",
   "language": "python",
   "name": "conda-base-py"
  },
  "language_info": {
   "codemirror_mode": {
    "name": "ipython",
    "version": 3
   },
   "file_extension": ".py",
   "mimetype": "text/x-python",
   "name": "python",
   "nbconvert_exporter": "python",
   "pygments_lexer": "ipython3",
   "version": "3.12.7"
  }
 },
 "nbformat": 4,
 "nbformat_minor": 5
}
