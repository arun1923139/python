{
 "cells": [
  {
   "cell_type": "raw",
   "id": "c614a450-b2d7-408e-8fa8-ab98adb586b1",
   "metadata": {},
   "source": [
    "Immutability"
   ]
  },
  {
   "cell_type": "code",
   "execution_count": 1,
   "id": "92ef8969-6142-4eb7-a745-1200a03f940c",
   "metadata": {},
   "outputs": [],
   "source": [
    "name = \"sam\""
   ]
  },
  {
   "cell_type": "code",
   "execution_count": 3,
   "id": "d7b08a81-eb92-4620-973f-aca452b288ed",
   "metadata": {},
   "outputs": [
    {
     "ename": "TypeError",
     "evalue": "'str' object does not support item assignment",
     "output_type": "error",
     "traceback": [
      "\u001b[1;31m---------------------------------------------------------------------------\u001b[0m",
      "\u001b[1;31mTypeError\u001b[0m                                 Traceback (most recent call last)",
      "Cell \u001b[1;32mIn[3], line 1\u001b[0m\n\u001b[1;32m----> 1\u001b[0m name[\u001b[38;5;241m0\u001b[39m]\u001b[38;5;241m=\u001b[39m \u001b[38;5;124m'\u001b[39m\u001b[38;5;124mp\u001b[39m\u001b[38;5;124m'\u001b[39m\n",
      "\u001b[1;31mTypeError\u001b[0m: 'str' object does not support item assignment"
     ]
    }
   ],
   "source": [
    "name[0]= 'p'"
   ]
  },
  {
   "cell_type": "code",
   "execution_count": 9,
   "id": "3bcbdd2f-0741-4e14-9f7f-139c095c2385",
   "metadata": {},
   "outputs": [],
   "source": [
    "last_letters = name[1:]"
   ]
  },
  {
   "cell_type": "code",
   "execution_count": 11,
   "id": "af3f206d-97ab-4c8d-9fff-77035232537a",
   "metadata": {},
   "outputs": [
    {
     "data": {
      "text/plain": [
       "'am'"
      ]
     },
     "execution_count": 11,
     "metadata": {},
     "output_type": "execute_result"
    }
   ],
   "source": [
    "last_letters"
   ]
  },
  {
   "cell_type": "code",
   "execution_count": 13,
   "id": "b2eb27b9-f730-44fd-b06f-f9da2b5024ec",
   "metadata": {},
   "outputs": [
    {
     "data": {
      "text/plain": [
       "'pam'"
      ]
     },
     "execution_count": 13,
     "metadata": {},
     "output_type": "execute_result"
    }
   ],
   "source": [
    "'p' + last_letters"
   ]
  },
  {
   "cell_type": "code",
   "execution_count": 15,
   "id": "b53233aa-f29c-4c5c-a5ca-cde86b443545",
   "metadata": {},
   "outputs": [],
   "source": [
    "x = 'hello World'"
   ]
  },
  {
   "cell_type": "code",
   "execution_count": 17,
   "id": "da8a9a6e-128a-4d56-a7bf-be1e8370d1a1",
   "metadata": {},
   "outputs": [
    {
     "data": {
      "text/plain": [
       "'hello World It is beautiful'"
      ]
     },
     "execution_count": 17,
     "metadata": {},
     "output_type": "execute_result"
    }
   ],
   "source": [
    "x + ' It is beautiful'"
   ]
  },
  {
   "cell_type": "code",
   "execution_count": 19,
   "id": "e3eb331f-1495-4a3e-930e-eeadf15bedb5",
   "metadata": {},
   "outputs": [
    {
     "data": {
      "text/plain": [
       "'hello World'"
      ]
     },
     "execution_count": 19,
     "metadata": {},
     "output_type": "execute_result"
    }
   ],
   "source": [
    "x"
   ]
  },
  {
   "cell_type": "code",
   "execution_count": 29,
   "id": "b704b9d6-14cb-4dd0-a3ad-378e9aa08d10",
   "metadata": {},
   "outputs": [],
   "source": [
    "x = x + ' It is beautiful'"
   ]
  },
  {
   "cell_type": "code",
   "execution_count": 31,
   "id": "c332b4cc-a313-4c0b-b4a1-dc98a74e8563",
   "metadata": {},
   "outputs": [
    {
     "data": {
      "text/plain": [
       "'hello World It is beautiful It is beautiful It is beautiful'"
      ]
     },
     "execution_count": 31,
     "metadata": {},
     "output_type": "execute_result"
    }
   ],
   "source": [
    "x"
   ]
  },
  {
   "cell_type": "code",
   "execution_count": 33,
   "id": "1c522dd9-0297-4ac0-a1b0-29ef9361fa9d",
   "metadata": {},
   "outputs": [],
   "source": [
    "letter = 'z'"
   ]
  },
  {
   "cell_type": "code",
   "execution_count": 35,
   "id": "2d84ef2f-e1c7-4daf-b094-3e2a23a67d05",
   "metadata": {},
   "outputs": [
    {
     "data": {
      "text/plain": [
       "'zzzzzzzzzz'"
      ]
     },
     "execution_count": 35,
     "metadata": {},
     "output_type": "execute_result"
    }
   ],
   "source": [
    "letter *10"
   ]
  },
  {
   "cell_type": "code",
   "execution_count": 37,
   "id": "f1b35bcb-5464-44b4-b6e3-826cc71e896f",
   "metadata": {},
   "outputs": [
    {
     "data": {
      "text/plain": [
       "'hello World It is beautiful It is beautiful It is beautifulhello World It is beautiful It is beautiful It is beautifulhello World It is beautiful It is beautiful It is beautifulhello World It is beautiful It is beautiful It is beautifulhello World It is beautiful It is beautiful It is beautifulhello World It is beautiful It is beautiful It is beautifulhello World It is beautiful It is beautiful It is beautifulhello World It is beautiful It is beautiful It is beautifulhello World It is beautiful It is beautiful It is beautifulhello World It is beautiful It is beautiful It is beautiful'"
      ]
     },
     "execution_count": 37,
     "metadata": {},
     "output_type": "execute_result"
    }
   ],
   "source": [
    "x*10"
   ]
  },
  {
   "cell_type": "code",
   "execution_count": 39,
   "id": "3ae497e8-d168-41f0-a7ca-0cad42d94c19",
   "metadata": {},
   "outputs": [
    {
     "data": {
      "text/plain": [
       "5"
      ]
     },
     "execution_count": 39,
     "metadata": {},
     "output_type": "execute_result"
    }
   ],
   "source": [
    "2+3"
   ]
  },
  {
   "cell_type": "code",
   "execution_count": 41,
   "id": "ebac9700-7f16-4efc-8d85-c23a7f79bdcc",
   "metadata": {},
   "outputs": [
    {
     "data": {
      "text/plain": [
       "'23'"
      ]
     },
     "execution_count": 41,
     "metadata": {},
     "output_type": "execute_result"
    }
   ],
   "source": [
    "'2'+'3'"
   ]
  },
  {
   "cell_type": "code",
   "execution_count": 43,
   "id": "ad2cb2ae-de0d-4c45-9df6-0cdd20fd75a3",
   "metadata": {},
   "outputs": [
    {
     "data": {
      "text/plain": [
       "'HELLO WORLD IT IS BEAUTIFUL IT IS BEAUTIFUL IT IS BEAUTIFUL'"
      ]
     },
     "execution_count": 43,
     "metadata": {},
     "output_type": "execute_result"
    }
   ],
   "source": [
    "x.upper()"
   ]
  },
  {
   "cell_type": "code",
   "execution_count": 45,
   "id": "73217536-a5f5-4cb1-8e0a-16a89cef71fd",
   "metadata": {},
   "outputs": [
    {
     "data": {
      "text/plain": [
       "'hello world it is beautiful it is beautiful it is beautiful'"
      ]
     },
     "execution_count": 45,
     "metadata": {},
     "output_type": "execute_result"
    }
   ],
   "source": [
    "x. lower()"
   ]
  },
  {
   "cell_type": "code",
   "execution_count": 51,
   "id": "994bc01d-4a8d-4323-b3c1-c552fa9ad9c0",
   "metadata": {},
   "outputs": [
    {
     "data": {
      "text/plain": [
       "['hello World It ',\n",
       " 's beaut',\n",
       " 'ful It ',\n",
       " 's beaut',\n",
       " 'ful It ',\n",
       " 's beaut',\n",
       " 'ful']"
      ]
     },
     "execution_count": 51,
     "metadata": {},
     "output_type": "execute_result"
    }
   ],
   "source": [
    "x.split('i')"
   ]
  },
  {
   "cell_type": "code",
   "execution_count": null,
   "id": "c156e314-2964-4f21-a818-1e1e9902935e",
   "metadata": {},
   "outputs": [],
   "source": []
  }
 ],
 "metadata": {
  "kernelspec": {
   "display_name": "Python [conda env:base] *",
   "language": "python",
   "name": "conda-base-py"
  },
  "language_info": {
   "codemirror_mode": {
    "name": "ipython",
    "version": 3
   },
   "file_extension": ".py",
   "mimetype": "text/x-python",
   "name": "python",
   "nbconvert_exporter": "python",
   "pygments_lexer": "ipython3",
   "version": "3.12.7"
  }
 },
 "nbformat": 4,
 "nbformat_minor": 5
}
