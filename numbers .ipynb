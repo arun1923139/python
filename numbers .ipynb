{
 "cells": [
  {
   "cell_type": "code",
   "execution_count": 1,
   "id": "9f36f93e-c469-445f-a0f2-a27ab2e9b9bf",
   "metadata": {},
   "outputs": [
    {
     "data": {
      "text/plain": [
       "3"
      ]
     },
     "execution_count": 1,
     "metadata": {},
     "output_type": "execute_result"
    }
   ],
   "source": [
    "2+1"
   ]
  },
  {
   "cell_type": "code",
   "execution_count": 3,
   "id": "2565b4c5-7ee1-43cd-90b7-296bc6098b8c",
   "metadata": {},
   "outputs": [
    {
     "data": {
      "text/plain": [
       "4"
      ]
     },
     "execution_count": 3,
     "metadata": {},
     "output_type": "execute_result"
    }
   ],
   "source": [
    "2*2"
   ]
  },
  {
   "cell_type": "code",
   "execution_count": 5,
   "id": "83d4597f-aaa1-4fd6-8559-cfa7c109d781",
   "metadata": {},
   "outputs": [
    {
     "data": {
      "text/plain": [
       "1"
      ]
     },
     "execution_count": 5,
     "metadata": {},
     "output_type": "execute_result"
    }
   ],
   "source": [
    "2-1"
   ]
  },
  {
   "cell_type": "markdown",
   "id": "e5c77d4a-e77e-45f4-a378-a7a1be2ff8ad",
   "metadata": {},
   "source": [
    "Modulo or \"Mod\" Operator"
   ]
  },
  {
   "cell_type": "code",
   "execution_count": 18,
   "id": "3afc5bb5-2e88-4327-9b2c-0f13bf57bcc4",
   "metadata": {},
   "outputs": [
    {
     "data": {
      "text/plain": [
       "1.75"
      ]
     },
     "execution_count": 18,
     "metadata": {},
     "output_type": "execute_result"
    }
   ],
   "source": [
    "7/4"
   ]
  },
  {
   "cell_type": "code",
   "execution_count": 11,
   "id": "98f36651-3980-442d-8cb3-213efed6d5d7",
   "metadata": {},
   "outputs": [
    {
     "data": {
      "text/plain": [
       "1"
      ]
     },
     "execution_count": 11,
     "metadata": {},
     "output_type": "execute_result"
    }
   ],
   "source": []
  },
  {
   "cell_type": "code",
   "execution_count": 13,
   "id": "d4492579-9d08-4c9a-82ae-d26988b81ddb",
   "metadata": {},
   "outputs": [
    {
     "data": {
      "text/plain": [
       "0"
      ]
     },
     "execution_count": 13,
     "metadata": {},
     "output_type": "execute_result"
    }
   ],
   "source": [
    "20%2"
   ]
  },
  {
   "cell_type": "code",
   "execution_count": 15,
   "id": "12a672fd-bd68-4ab0-abe1-1e4f4162ead7",
   "metadata": {},
   "outputs": [
    {
     "data": {
      "text/plain": [
       "1"
      ]
     },
     "execution_count": 15,
     "metadata": {},
     "output_type": "execute_result"
    }
   ],
   "source": [
    "23%2"
   ]
  },
  {
   "cell_type": "code",
   "execution_count": 20,
   "id": "90331f2d-8ba8-42c7-8a53-3b385a9b64e9",
   "metadata": {},
   "outputs": [
    {
     "data": {
      "text/plain": [
       "8"
      ]
     },
     "execution_count": 20,
     "metadata": {},
     "output_type": "execute_result"
    }
   ],
   "source": [
    "2 **3"
   ]
  },
  {
   "cell_type": "code",
   "execution_count": 22,
   "id": "5de8905e-e431-4db4-bf33-2f64c281323b",
   "metadata": {},
   "outputs": [
    {
     "data": {
      "text/plain": [
       "175616"
      ]
     },
     "execution_count": 22,
     "metadata": {},
     "output_type": "execute_result"
    }
   ],
   "source": [
    "56 **3"
   ]
  },
  {
   "cell_type": "code",
   "execution_count": 24,
   "id": "5fba3985-c32d-4b9b-9471-8810a6f9c26e",
   "metadata": {},
   "outputs": [
    {
     "data": {
      "text/plain": [
       "5.551115123125783e-17"
      ]
     },
     "execution_count": 24,
     "metadata": {},
     "output_type": "execute_result"
    }
   ],
   "source": [
    "0.1+0.2-0.3"
   ]
  },
  {
   "cell_type": "code",
   "execution_count": 26,
   "id": "57fe514d-d16a-4ccd-853b-3a81ecd99cd9",
   "metadata": {},
   "outputs": [
    {
     "data": {
      "text/plain": [
       "-0.09999999999999998"
      ]
     },
     "execution_count": 26,
     "metadata": {},
     "output_type": "execute_result"
    }
   ],
   "source": [
    "0.2-0.3"
   ]
  },
  {
   "cell_type": "code",
   "execution_count": 28,
   "id": "46386bf6-d340-4e6d-9a61-3954fda8171a",
   "metadata": {},
   "outputs": [
    {
     "data": {
      "text/plain": [
       "1.000000000861423e-08"
      ]
     },
     "execution_count": 28,
     "metadata": {},
     "output_type": "execute_result"
    }
   ],
   "source": [
    "-0.09999999+0.1"
   ]
  },
  {
   "cell_type": "code",
   "execution_count": 30,
   "id": "6cc575e5-8b57-4eb9-9475-bcec28e4223e",
   "metadata": {},
   "outputs": [
    {
     "data": {
      "text/plain": [
       "5.551115123125783e-17"
      ]
     },
     "execution_count": 30,
     "metadata": {},
     "output_type": "execute_result"
    }
   ],
   "source": [
    "(0.1+0.2)-0.3"
   ]
  },
  {
   "cell_type": "code",
   "execution_count": null,
   "id": "779f07c1-29a0-41d9-91a5-c21f404dcadc",
   "metadata": {},
   "outputs": [],
   "source": []
  }
 ],
 "metadata": {
  "kernelspec": {
   "display_name": "Python [conda env:base] *",
   "language": "python",
   "name": "conda-base-py"
  },
  "language_info": {
   "codemirror_mode": {
    "name": "ipython",
    "version": 3
   },
   "file_extension": ".py",
   "mimetype": "text/x-python",
   "name": "python",
   "nbconvert_exporter": "python",
   "pygments_lexer": "ipython3",
   "version": "3.12.7"
  }
 },
 "nbformat": 4,
 "nbformat_minor": 5
}
